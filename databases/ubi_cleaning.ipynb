{
 "cells": [
  {
   "metadata": {
    "collapsed": true,
    "ExecuteTime": {
     "end_time": "2024-10-26T15:41:58.205536Z",
     "start_time": "2024-10-26T15:41:58.159918Z"
    }
   },
   "cell_type": "code",
   "source": [
    "import numpy as np\n",
    "import pandas as pd\n",
    "import matplotlib.pyplot as plt\n",
    "\n",
    "df = pd.read_csv('uab-data/ubicaciones.csv')\n",
    "df.head()"
   ],
   "id": "initial_id",
   "outputs": [
    {
     "data": {
      "text/plain": [
       "  ID_UBICACIO                     DS_UBICACIO  ID_TIPUS_DEPENDENCIA  \\\n",
       "0    C0/035.3  Arxiu Gestió Acadèmica Biocièn                    16   \n",
       "1      C0/019  Arxiu Gestió Acadèmica Cièncie                     1   \n",
       "2      A/1043    Arxiu Of.Coord.Institucional                     1   \n",
       "3     B7/050B                        Ascensor                    45   \n",
       "4      B9/002                        Ascensor                    45   \n",
       "\n",
       "  ID_EDIFICI    QL_PORTA  IND_METRES ID_SN_BAIXA  \n",
       "0          C  C0/035.3          16.0           N  \n",
       "1          C  C0/019            26.0           N  \n",
       "2          A  A/1043            27.0           N  \n",
       "3          B  B7/050B            3.0           N  \n",
       "4          B  B9/002             4.0           N  "
      ],
      "text/html": [
       "<div>\n",
       "<style scoped>\n",
       "    .dataframe tbody tr th:only-of-type {\n",
       "        vertical-align: middle;\n",
       "    }\n",
       "\n",
       "    .dataframe tbody tr th {\n",
       "        vertical-align: top;\n",
       "    }\n",
       "\n",
       "    .dataframe thead th {\n",
       "        text-align: right;\n",
       "    }\n",
       "</style>\n",
       "<table border=\"1\" class=\"dataframe\">\n",
       "  <thead>\n",
       "    <tr style=\"text-align: right;\">\n",
       "      <th></th>\n",
       "      <th>ID_UBICACIO</th>\n",
       "      <th>DS_UBICACIO</th>\n",
       "      <th>ID_TIPUS_DEPENDENCIA</th>\n",
       "      <th>ID_EDIFICI</th>\n",
       "      <th>QL_PORTA</th>\n",
       "      <th>IND_METRES</th>\n",
       "      <th>ID_SN_BAIXA</th>\n",
       "    </tr>\n",
       "  </thead>\n",
       "  <tbody>\n",
       "    <tr>\n",
       "      <th>0</th>\n",
       "      <td>C0/035.3</td>\n",
       "      <td>Arxiu Gestió Acadèmica Biocièn</td>\n",
       "      <td>16</td>\n",
       "      <td>C</td>\n",
       "      <td>C0/035.3</td>\n",
       "      <td>16.0</td>\n",
       "      <td>N</td>\n",
       "    </tr>\n",
       "    <tr>\n",
       "      <th>1</th>\n",
       "      <td>C0/019</td>\n",
       "      <td>Arxiu Gestió Acadèmica Cièncie</td>\n",
       "      <td>1</td>\n",
       "      <td>C</td>\n",
       "      <td>C0/019</td>\n",
       "      <td>26.0</td>\n",
       "      <td>N</td>\n",
       "    </tr>\n",
       "    <tr>\n",
       "      <th>2</th>\n",
       "      <td>A/1043</td>\n",
       "      <td>Arxiu Of.Coord.Institucional</td>\n",
       "      <td>1</td>\n",
       "      <td>A</td>\n",
       "      <td>A/1043</td>\n",
       "      <td>27.0</td>\n",
       "      <td>N</td>\n",
       "    </tr>\n",
       "    <tr>\n",
       "      <th>3</th>\n",
       "      <td>B7/050B</td>\n",
       "      <td>Ascensor</td>\n",
       "      <td>45</td>\n",
       "      <td>B</td>\n",
       "      <td>B7/050B</td>\n",
       "      <td>3.0</td>\n",
       "      <td>N</td>\n",
       "    </tr>\n",
       "    <tr>\n",
       "      <th>4</th>\n",
       "      <td>B9/002</td>\n",
       "      <td>Ascensor</td>\n",
       "      <td>45</td>\n",
       "      <td>B</td>\n",
       "      <td>B9/002</td>\n",
       "      <td>4.0</td>\n",
       "      <td>N</td>\n",
       "    </tr>\n",
       "  </tbody>\n",
       "</table>\n",
       "</div>"
      ]
     },
     "execution_count": 132,
     "metadata": {},
     "output_type": "execute_result"
    }
   ],
   "execution_count": 132
  },
  {
   "metadata": {
    "ExecuteTime": {
     "end_time": "2024-10-26T15:41:58.282788Z",
     "start_time": "2024-10-26T15:41:58.261994Z"
    }
   },
   "cell_type": "code",
   "source": [
    "df= df.dropna(axis=0,how='any')\n",
    "df['DS_UBICACIO'] = df['DS_UBICACIO'].str.lower()\n",
    "df.drop(columns=['QL_PORTA'], inplace=True)\n",
    "df.tail()"
   ],
   "id": "62142278b7e09d38",
   "outputs": [
    {
     "data": {
      "text/plain": [
       "     ID_UBICACIO                 DS_UBICACIO  ID_TIPUS_DEPENDENCIA ID_EDIFICI  \\\n",
       "9309   N/-1011.3       vestíbul díposit d-10                    43          N   \n",
       "9310      V7/001  vestíbul entrada llatzaret                    43          V   \n",
       "9311      G5/0X1  vestíbul exterior facultat                    14          G   \n",
       "9312     QS/1010       vestíbul lavabo homes                    23          Q   \n",
       "9313     C5/1080            vestíbul lavabos                    23          C   \n",
       "\n",
       "      IND_METRES ID_SN_BAIXA  \n",
       "9309         3.0           N  \n",
       "9310         7.0           N  \n",
       "9311       221.0           N  \n",
       "9312         3.0           N  \n",
       "9313         8.0           N  "
      ],
      "text/html": [
       "<div>\n",
       "<style scoped>\n",
       "    .dataframe tbody tr th:only-of-type {\n",
       "        vertical-align: middle;\n",
       "    }\n",
       "\n",
       "    .dataframe tbody tr th {\n",
       "        vertical-align: top;\n",
       "    }\n",
       "\n",
       "    .dataframe thead th {\n",
       "        text-align: right;\n",
       "    }\n",
       "</style>\n",
       "<table border=\"1\" class=\"dataframe\">\n",
       "  <thead>\n",
       "    <tr style=\"text-align: right;\">\n",
       "      <th></th>\n",
       "      <th>ID_UBICACIO</th>\n",
       "      <th>DS_UBICACIO</th>\n",
       "      <th>ID_TIPUS_DEPENDENCIA</th>\n",
       "      <th>ID_EDIFICI</th>\n",
       "      <th>IND_METRES</th>\n",
       "      <th>ID_SN_BAIXA</th>\n",
       "    </tr>\n",
       "  </thead>\n",
       "  <tbody>\n",
       "    <tr>\n",
       "      <th>9309</th>\n",
       "      <td>N/-1011.3</td>\n",
       "      <td>vestíbul díposit d-10</td>\n",
       "      <td>43</td>\n",
       "      <td>N</td>\n",
       "      <td>3.0</td>\n",
       "      <td>N</td>\n",
       "    </tr>\n",
       "    <tr>\n",
       "      <th>9310</th>\n",
       "      <td>V7/001</td>\n",
       "      <td>vestíbul entrada llatzaret</td>\n",
       "      <td>43</td>\n",
       "      <td>V</td>\n",
       "      <td>7.0</td>\n",
       "      <td>N</td>\n",
       "    </tr>\n",
       "    <tr>\n",
       "      <th>9311</th>\n",
       "      <td>G5/0X1</td>\n",
       "      <td>vestíbul exterior facultat</td>\n",
       "      <td>14</td>\n",
       "      <td>G</td>\n",
       "      <td>221.0</td>\n",
       "      <td>N</td>\n",
       "    </tr>\n",
       "    <tr>\n",
       "      <th>9312</th>\n",
       "      <td>QS/1010</td>\n",
       "      <td>vestíbul lavabo homes</td>\n",
       "      <td>23</td>\n",
       "      <td>Q</td>\n",
       "      <td>3.0</td>\n",
       "      <td>N</td>\n",
       "    </tr>\n",
       "    <tr>\n",
       "      <th>9313</th>\n",
       "      <td>C5/1080</td>\n",
       "      <td>vestíbul lavabos</td>\n",
       "      <td>23</td>\n",
       "      <td>C</td>\n",
       "      <td>8.0</td>\n",
       "      <td>N</td>\n",
       "    </tr>\n",
       "  </tbody>\n",
       "</table>\n",
       "</div>"
      ]
     },
     "execution_count": 133,
     "metadata": {},
     "output_type": "execute_result"
    }
   ],
   "execution_count": 133
  },
  {
   "metadata": {
    "ExecuteTime": {
     "end_time": "2024-10-26T15:41:58.424610Z",
     "start_time": "2024-10-26T15:41:58.392657Z"
    }
   },
   "cell_type": "code",
   "source": [
    "inclusiones = ['lab.', 'laboratori', 'aula', 'seminaris']\n",
    "exclusiones = ['accés', 'despatx', 'magatzem', 'passadís', 'lavabos', 'labavos', 'investigació']\n",
    "p_inc = \"|\".join(inclusiones)\n",
    "p_excl = \"|\".join(exclusiones)\n",
    "df_fin = df[df['DS_UBICACIO'].str.contains(p_inc)]\n",
    "df_fin = df_fin[~df_fin['DS_UBICACIO'].str.contains(p_excl, case=False, na=False)]\n",
    "df_fin = pd.concat([df_fin[df_fin['ID_EDIFICI']=='Q'], df_fin[df_fin['ID_EDIFICI']=='C'], df_fin[df_fin['ID_EDIFICI']=='B']], ignore_index=True)\n",
    "\n",
    "#print(df_fin.DS_UBICACIO.unique().tolist())\n",
    "df_fin.reset_index(drop=True, inplace=True)\n",
    "df_fin.head()"
   ],
   "id": "962034a88e5c6be9",
   "outputs": [
    {
     "data": {
      "text/plain": [
       "  ID_UBICACIO                     DS_UBICACIO  ID_TIPUS_DEPENDENCIA  \\\n",
       "0     Q1/1003      aula q1/1003 (dues portes)                     4   \n",
       "1     Q3/0013                    aula q3/0013                     4   \n",
       "2     Q4/1013      aula q4/1013 (dues portes)                     4   \n",
       "3     Q1/0007  aula d'informàtica a (2 portes                     7   \n",
       "4     Q3/0005                     aula docent                     4   \n",
       "\n",
       "  ID_EDIFICI  IND_METRES ID_SN_BAIXA  \n",
       "0          Q       106.0           N  \n",
       "1          Q        50.0           N  \n",
       "2          Q       104.0           N  \n",
       "3          Q       103.0           N  \n",
       "4          Q       106.0           S  "
      ],
      "text/html": [
       "<div>\n",
       "<style scoped>\n",
       "    .dataframe tbody tr th:only-of-type {\n",
       "        vertical-align: middle;\n",
       "    }\n",
       "\n",
       "    .dataframe tbody tr th {\n",
       "        vertical-align: top;\n",
       "    }\n",
       "\n",
       "    .dataframe thead th {\n",
       "        text-align: right;\n",
       "    }\n",
       "</style>\n",
       "<table border=\"1\" class=\"dataframe\">\n",
       "  <thead>\n",
       "    <tr style=\"text-align: right;\">\n",
       "      <th></th>\n",
       "      <th>ID_UBICACIO</th>\n",
       "      <th>DS_UBICACIO</th>\n",
       "      <th>ID_TIPUS_DEPENDENCIA</th>\n",
       "      <th>ID_EDIFICI</th>\n",
       "      <th>IND_METRES</th>\n",
       "      <th>ID_SN_BAIXA</th>\n",
       "    </tr>\n",
       "  </thead>\n",
       "  <tbody>\n",
       "    <tr>\n",
       "      <th>0</th>\n",
       "      <td>Q1/1003</td>\n",
       "      <td>aula q1/1003 (dues portes)</td>\n",
       "      <td>4</td>\n",
       "      <td>Q</td>\n",
       "      <td>106.0</td>\n",
       "      <td>N</td>\n",
       "    </tr>\n",
       "    <tr>\n",
       "      <th>1</th>\n",
       "      <td>Q3/0013</td>\n",
       "      <td>aula q3/0013</td>\n",
       "      <td>4</td>\n",
       "      <td>Q</td>\n",
       "      <td>50.0</td>\n",
       "      <td>N</td>\n",
       "    </tr>\n",
       "    <tr>\n",
       "      <th>2</th>\n",
       "      <td>Q4/1013</td>\n",
       "      <td>aula q4/1013 (dues portes)</td>\n",
       "      <td>4</td>\n",
       "      <td>Q</td>\n",
       "      <td>104.0</td>\n",
       "      <td>N</td>\n",
       "    </tr>\n",
       "    <tr>\n",
       "      <th>3</th>\n",
       "      <td>Q1/0007</td>\n",
       "      <td>aula d'informàtica a (2 portes</td>\n",
       "      <td>7</td>\n",
       "      <td>Q</td>\n",
       "      <td>103.0</td>\n",
       "      <td>N</td>\n",
       "    </tr>\n",
       "    <tr>\n",
       "      <th>4</th>\n",
       "      <td>Q3/0005</td>\n",
       "      <td>aula docent</td>\n",
       "      <td>4</td>\n",
       "      <td>Q</td>\n",
       "      <td>106.0</td>\n",
       "      <td>S</td>\n",
       "    </tr>\n",
       "  </tbody>\n",
       "</table>\n",
       "</div>"
      ]
     },
     "execution_count": 134,
     "metadata": {},
     "output_type": "execute_result"
    }
   ],
   "execution_count": 134
  },
  {
   "metadata": {
    "ExecuteTime": {
     "end_time": "2024-10-26T15:41:58.652967Z",
     "start_time": "2024-10-26T15:41:58.545845Z"
    }
   },
   "cell_type": "code",
   "source": [
    "baixa_count = df_fin['ID_SN_BAIXA'].value_counts()\n",
    "plt.bar(baixa_count.index, baixa_count.values, color=['skyblue', 'salmon'])\n",
    "plt.ylabel('Cantidad')\n",
    "plt.xlabel('Valor')\n",
    "plt.show()\n",
    "\n",
    "df_fin = df_fin[df_fin['ID_SN_BAIXA'] == 'N']\n",
    "df_fin.drop(columns=['ID_SN_BAIXA'], inplace=True)\n",
    "df_fin.reset_index(drop=True, inplace=True)"
   ],
   "id": "39ce8168ce726c23",
   "outputs": [
    {
     "data": {
      "text/plain": [
       "<Figure size 640x480 with 1 Axes>"
      ],
      "image/png": "[encoded data removed]"
     },
     "metadata": {},
     "output_type": "display_data"
    }
   ],
   "execution_count": 135
  },
  {
   "metadata": {
    "ExecuteTime": {
     "end_time": "2024-10-26T15:42:21.336015Z",
     "start_time": "2024-10-26T15:42:21.321283Z"
    }
   },
   "cell_type": "code",
   "source": "df_fin.to_csv('cleaned-data/ubicaciones_cleaned.csv', index=False)",
   "id": "e2ace1324cdc6686",
   "outputs": [],
   "execution_count": 137
  }
 ],
 "metadata": {
  "kernelspec": {
   "display_name": "Python 3",
   "language": "python",
   "name": "python3"
  },
  "language_info": {
   "codemirror_mode": {
    "name": "ipython",
    "version": 2
   },
   "file_extension": ".py",
   "mimetype": "text/x-python",
   "name": "python",
   "nbconvert_exporter": "python",
   "pygments_lexer": "ipython2",
   "version": "2.7.6"
  }
 },
 "nbformat": 4,
 "nbformat_minor": 5
}
